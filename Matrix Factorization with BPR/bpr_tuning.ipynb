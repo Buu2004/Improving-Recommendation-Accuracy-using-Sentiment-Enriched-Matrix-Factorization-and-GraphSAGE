{
  "cells": [
    {
      "cell_type": "code",
      "execution_count": null,
      "metadata": {
        "id": "wwu9dHGE-XJ-"
      },
      "outputs": [],
      "source": [
        "\n",
        "from google.colab import drive\n",
        "drive.mount('/content/drive')"
      ]
    },
    {
      "cell_type": "code",
      "execution_count": null,
      "metadata": {
        "id": "BgJl9fzU-euK"
      },
      "outputs": [],
      "source": [
        "!pip install cornac"
      ]
    },
    {
      "cell_type": "code",
      "execution_count": null,
      "metadata": {
        "id": "IZyZbb7H-iPH"
      },
      "outputs": [],
      "source": [
        "!pip install recommenders"
      ]
    },
    {
      "cell_type": "code",
      "execution_count": null,
      "metadata": {
        "id": "rprqJY2F-miR"
      },
      "outputs": [],
      "source": [
        "import os\n",
        "import sys\n",
        "import cornac\n",
        "import pandas as pd\n",
        "\n",
        "from recommenders.datasets.python_splitters import python_random_split\n",
        "from recommenders.evaluation.python_evaluation import map, ndcg_at_k, precision_at_k, recall_at_k\n",
        "from recommenders.models.cornac.cornac_utils import predict_ranking\n",
        "from recommenders.utils.timer import Timer\n",
        "from recommenders.utils.constants import SEED\n",
        "from recommenders.utils.notebook_utils import store_metadata"
      ]
    },
    {
      "cell_type": "code",
      "execution_count": null,
      "metadata": {
        "id": "Mp1KTNop-qg6"
      },
      "outputs": [],
      "source": [
        "\n",
        "df = pd.read_csv('df_movie_sen_score.csv')"
      ]
    },
    {
      "cell_type": "code",
      "execution_count": null,
      "metadata": {
        "id": "1BgObnOzA8sR"
      },
      "outputs": [],
      "source": [
        "df.shape"
      ]
    },
    {
      "cell_type": "code",
      "execution_count": null,
      "metadata": {
        "id": "yUMyn2nxATo8"
      },
      "outputs": [],
      "source": [
        "data = df[['userID', 'itemID', 'rating']].to_records(index=False)\n",
        "data_tuples = list(data)"
      ]
    },
    {
      "cell_type": "code",
      "execution_count": null,
      "metadata": {
        "id": "gz3UUQIcAYUj"
      },
      "outputs": [],
      "source": [
        "from cornac.eval_methods import RatioSplit\n",
        "from cornac.models import BPR\n",
        "from cornac.metrics import Precision, Recall, NDCG\n",
        "from cornac.experiment import Experiment\n",
        "\n",
        "rs = RatioSplit(data=data_tuples, test_size=0.1, val_size=0.1, rating_threshold=4.0, seed=123)"
      ]
    },
    {
      "cell_type": "code",
      "execution_count": null,
      "metadata": {
        "id": "fPzBfiNL7YMY"
      },
      "outputs": [],
      "source": [
        "\n",
        "prc10 = cornac.metrics.Precision(10)\n",
        "rec10 = cornac.metrics.Recall(10)\n",
        "ndcg10 = cornac.metrics.NDCG(10)\n",
        "mse = cornac.metrics.MSE()\n",
        "rmse = cornac.metrics.RMSE()\n",
        "map = cornac.metrics.MAP()\n",
        "\n",
        "metrics=[rec10,prc10,ndcg10,mse,rmse,map]\n",
        "bpr = BPR(k=50, max_iter=2000, learning_rate=0.1, lambda_reg=0.01, seed=123)"
      ]
    },
    {
      "cell_type": "code",
      "execution_count": null,
      "metadata": {
        "colab": {
          "background_save": true
        },
        "id": "R8BjdWZQcg0F"
      },
      "outputs": [],
      "source": [
        "bpr.fit(rs.train_set)\n",
        "\n",
        "\n",
        "experiment = Experiment(eval_method=rs, models=[bpr], metrics=metrics)\n",
        "experiment.run()"
      ]
    },
    {
      "cell_type": "code",
      "execution_count": null,
      "metadata": {
        "colab": {
          "background_save": true
        },
        "id": "GOuQgKuOdypq"
      },
      "outputs": [],
      "source": [
        "# Retrieve user embeddings\n",
        "user_embeddings = bpr.u_factors\n",
        "\n",
        "# Retrieve item embeddings\n",
        "item_embeddings = bpr.i_factors\n",
        "\n",
        "print(\"User Embeddings:\")\n",
        "print(user_embeddings)\n",
        "\n",
        "print(\"Item Embeddings:\")\n",
        "print(item_embeddings)"
      ]
    },
    {
      "cell_type": "code",
      "execution_count": null,
      "metadata": {
        "colab": {
          "background_save": true
        },
        "id": "q9ZGFinHQHUa"
      },
      "outputs": [],
      "source": [
        "\n",
        "user_df = pd.DataFrame(user_embeddings)\n",
        "user_df.index = rs.train_set.user_ids\n",
        "user_df.columns = [f\"factor_{i}\" for i in range(user_df.shape[1])]\n",
        "\n",
        "# Add the user IDs as the first column\n",
        "user_df.insert(0, \"userID\", user_df.index)\n",
        "\n",
        "print(\"User Embeddings DataFrame:\")\n",
        "print(user_df.head())"
      ]
    },
    {
      "cell_type": "code",
      "execution_count": null,
      "metadata": {
        "colab": {
          "background_save": true
        },
        "id": "Oob0Kt2lQLeO"
      },
      "outputs": [],
      "source": [
        "user_df"
      ]
    },
    {
      "cell_type": "code",
      "execution_count": null,
      "metadata": {
        "colab": {
          "background_save": true
        },
        "id": "T-5henmeWvZd"
      },
      "outputs": [],
      "source": [
        "\n",
        "item_df = pd.DataFrame(item_embeddings)\n",
        "item_df.index = rs.train_set.item_ids\n",
        "item_df.columns = [f\"factor_{i}\" for i in range(item_df.shape[1])]\n",
        "\n",
        "# Add the item IDs as the first column\n",
        "item_df.insert(0, \"itemID\", item_df.index)\n",
        "\n",
        "print(\"Item Embeddings DataFrame:\")\n",
        "print(item_df.head())\n",
        "\n"
      ]
    },
    {
      "cell_type": "code",
      "execution_count": null,
      "metadata": {
        "colab": {
          "background_save": true
        },
        "id": "J--97wKwXbpl"
      },
      "outputs": [],
      "source": [
        "user_df"
      ]
    },
    {
      "cell_type": "code",
      "execution_count": null,
      "metadata": {
        "colab": {
          "background_save": true
        },
        "id": "jdA8tw0UXe8G"
      },
      "outputs": [],
      "source": [
        "item_df"
      ]
    },
    {
      "cell_type": "code",
      "execution_count": null,
      "metadata": {
        "colab": {
          "background_save": true
        },
        "id": "_13K1bw0f5uW"
      },
      "outputs": [],
      "source": [
        "\n",
        "# Export user embeddings\n",
        "user_embeddings_df = pd.DataFrame(user_df)\n",
        "user_embeddings_df.to_csv('user_embeddings_movie_sen50.csv', index=False)\n",
        "\n",
        "# Export item embeddings\n",
        "item_embeddings_df = pd.DataFrame(item_df)\n",
        "item_embeddings_df.to_csv('item_embeddings_movie_sen50.csv', index=False)"
      ]
    }
  ],
  "metadata": {
    "colab": {
      "provenance": []
    },
    "kernelspec": {
      "display_name": "Python 3",
      "name": "python3"
    },
    "language_info": {
      "name": "python"
    }
  },
  "nbformat": 4,
  "nbformat_minor": 0
}